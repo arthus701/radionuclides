{
 "cells": [
  {
   "cell_type": "code",
   "execution_count": null,
   "metadata": {},
   "outputs": [],
   "source": [
    "import numpy as np\n",
    "\n",
    "import arviz as az\n",
    "\n",
    "from matplotlib import pyplot as plt\n",
    "\n",
    "from cartopy import crs as ccrs\n",
    "\n",
    "from pandas import read_csv\n",
    "\n",
    "from pymagglobal.utils import i2lm_l\n",
    "\n",
    "from scipy.stats import t, norm\n",
    "\n",
    "from common import z_at, data, n_coeffs, rawData, lmax"
   ]
  },
  {
   "cell_type": "code",
   "execution_count": null,
   "metadata": {},
   "outputs": [],
   "source": [
    "# prefix = 'arch_afm9k'\n",
    "# prefix = 'radio_afm9k'\n",
    "# prefix = 'radio_pfm_afm9k'\n",
    "prefix = 'radio_bimodal'\n",
    "idata_fname = f'../dat/{prefix}_result.nc'\n",
    "summary_fname = f'../dat/{prefix}_summary.csv'\n",
    "coeff_fname = f'../dat/{prefix}_ensemble.npz'"
   ]
  },
  {
   "cell_type": "code",
   "execution_count": null,
   "metadata": {},
   "outputs": [],
   "source": [
    "iData = az.from_netcdf(idata_fname)\n",
    "\n",
    "summary = read_csv(summary_fname)\n",
    "summary.rename(columns={'Unnamed: 0': 'Name'}, inplace=True)\n",
    "\n",
    "with np.load(coeff_fname) as fh:\n",
    "    knots = fh['knots']\n",
    "    coeffs = fh['coeffs']"
   ]
  },
  {
   "cell_type": "code",
   "execution_count": null,
   "metadata": {},
   "outputs": [],
   "source": [
    "ts = z_at[None, None, 3] - \\\n",
    "    np.array(iData.posterior['t_cent']) \\\n",
    "    * np.sqrt(data.errs_T_raw)[None, None, :]"
   ]
  },
  {
   "cell_type": "code",
   "execution_count": null,
   "metadata": {
    "metadata": {}
   },
   "outputs": [],
   "source": [
    "iData"
   ]
  },
  {
   "cell_type": "code",
   "execution_count": null,
   "metadata": {
    "metadata": {}
   },
   "outputs": [],
   "source": [
    "summary"
   ]
  },
  {
   "cell_type": "code",
   "execution_count": null,
   "metadata": {},
   "outputs": [],
   "source": [
    "cnt = 0\n",
    "\n",
    "t_inds = []\n",
    "names = []\n",
    "for it in summary['Name'][\n",
    "    np.argwhere(summary['r_hat'].values > 1.1).flatten()\n",
    "]:\n",
    "    if \"t_cent\" in it:\n",
    "        t_inds.append(int(it.split('[')[1].strip(']')))\n",
    "    names.append(it)\n",
    "    cnt += 1\n"
   ]
  },
  {
   "cell_type": "code",
   "execution_count": null,
   "metadata": {
    "metadata": {}
   },
   "outputs": [],
   "source": [
    "print(\n",
    "    \"The maximal treedepth was \"\n",
    "    f\"{np.max(np.array(iData.sample_stats['tree_depth']))}.\"\n",
    ")\n",
    "print(\n",
    "    f\"The chains had {np.sum(np.array(iData.sample_stats['diverging']))} \"\n",
    "    \"divergences.\"\n",
    ")\n",
    "print(\n",
    "    f\"There were {cnt} random variables with rhat > 1.1.\"\n",
    ")"
   ]
  },
  {
   "cell_type": "code",
   "execution_count": null,
   "metadata": {
    "metadata": {}
   },
   "outputs": [],
   "source": [
    "fig, ax = plt.subplots(1, 1, figsize=(10, 5))\n",
    "\n",
    "az.plot_energy(iData, ax=ax);"
   ]
  },
  {
   "cell_type": "code",
   "execution_count": null,
   "metadata": {
    "metadata": {}
   },
   "outputs": [],
   "source": [
    "lp = np.array(iData.sample_stats['lp'])\n",
    "n_chains = lp.shape[0]\n",
    "\n",
    "fig, ax = plt.subplots(1, 1, figsize=(12, 1+n_chains*3))\n",
    "\n",
    "for it in range(n_chains):\n",
    "    ax.plot(\n",
    "        np.arange(lp.shape[1]),\n",
    "        lp[it],\n",
    "    )\n",
    "\n",
    "fig.tight_layout(w_pad=1.3)"
   ]
  },
  {
   "cell_type": "code",
   "execution_count": null,
   "metadata": {},
   "outputs": [],
   "source": [
    "rD = np.array(iData.posterior['rD'])\n",
    "rI = np.array(iData.posterior['rI'])\n",
    "rF = np.array(iData.posterior['rF'])\n",
    "nus = np.array(iData.posterior['nu'])\n",
    "# print(np.mean(nus, axis=1))\n",
    "# nus = 3*np.ones((2, 10, 5))\n"
   ]
  },
  {
   "cell_type": "code",
   "execution_count": null,
   "metadata": {},
   "outputs": [],
   "source": [
    "sf = np.array(iData.posterior['s_fac'])\n",
    "sf.mean(axis=1)"
   ]
  },
  {
   "cell_type": "code",
   "execution_count": null,
   "metadata": {},
   "outputs": [],
   "source": [
    "nus.mean(axis=1)"
   ]
  },
  {
   "cell_type": "code",
   "execution_count": null,
   "metadata": {
    "metadata": {}
   },
   "outputs": [],
   "source": [
    "rs = [\n",
    "    rD,\n",
    "    rI,\n",
    "    rF,\n",
    "]\n",
    "\n",
    "fig, axs = plt.subplots(1, len(rs), figsize=(15, 4))\n",
    "\n",
    "# for it in range(len(rs)):\n",
    "for it in range(3):\n",
    "    _, bins, _ = axs[it].hist(\n",
    "        np.mean(rs[it], axis=1).T,\n",
    "        bins=np.linspace(-5, 5, 21),\n",
    "        density=True,\n",
    "    )\n",
    "    arr = np.linspace(\n",
    "        np.min(bins),\n",
    "        np.max(bins),\n",
    "        401,\n",
    "    )\n",
    "    axs[it].plot(\n",
    "        arr,\n",
    "        t.pdf(arr, df=1+np.mean(nus[0, :, it])),\n",
    "        color='C0',\n",
    "    )\n",
    "    axs[it].plot(\n",
    "        arr,\n",
    "        t.pdf(arr, df=1+np.mean(nus[1, :, it])),\n",
    "        color='C1',\n",
    "    )\n",
    "    axs[it].set_xlim(-5, 5)"
   ]
  },
  {
   "cell_type": "code",
   "execution_count": null,
   "metadata": {},
   "outputs": [],
   "source": [
    "rNH = np.array(iData.posterior['rNH'])\n",
    "rSH = np.array(iData.posterior['rSH'])\n",
    "rGL = np.array(iData.posterior['rC14'])"
   ]
  },
  {
   "cell_type": "code",
   "execution_count": null,
   "metadata": {
    "metadata": {}
   },
   "outputs": [],
   "source": [
    "rs = [\n",
    "    rNH,\n",
    "    rSH,\n",
    "    rGL,\n",
    "]\n",
    "\n",
    "fig, axs = plt.subplots(1, len(rs), figsize=(15, 4))\n",
    "\n",
    "# for it in range(len(rs)):\n",
    "for it in range(3):\n",
    "    _, bins, _ = axs[it].hist(\n",
    "        np.mean(rs[it], axis=1).T,\n",
    "        bins=np.linspace(-5, 5, 21),\n",
    "        density=True,\n",
    "    )\n",
    "    arr = np.linspace(\n",
    "        np.min(bins),\n",
    "        np.max(bins),\n",
    "        401,\n",
    "    )\n",
    "    axs[it].plot(\n",
    "        arr,\n",
    "        norm.pdf(arr),\n",
    "        color='C0',\n",
    "    )\n",
    "    axs[it].set_xlim(-5, 5)"
   ]
  },
  {
   "cell_type": "code",
   "execution_count": null,
   "metadata": {
    "metadata": {}
   },
   "outputs": [],
   "source": [
    "locs = data.inputs[:, t_inds]\n",
    "# locs[1][np.argwhere(locs[1] > 180)] -= 360\n",
    "proj = ccrs.Mollweide()\n",
    "fig, ax = plt.subplots(1, 1, subplot_kw={'projection': proj}, figsize=(10, 5))\n",
    "\n",
    "ax.scatter(\n",
    "    locs[1],\n",
    "    90-locs[0],\n",
    "    transform=ccrs.PlateCarree(),\n",
    ")\n",
    "ax.set_global()\n",
    "ax.coastlines()"
   ]
  },
  {
   "cell_type": "code",
   "execution_count": null,
   "metadata": {
    "metadata": {}
   },
   "outputs": [],
   "source": [
    "n_plots = len(t_inds)\n",
    "\n",
    "if n_plots <= 20:\n",
    "    if n_plots <= 3:\n",
    "        n_row = 1\n",
    "        n_col = n_plots\n",
    "    elif n_plots <= 6:\n",
    "        n_row = 2\n",
    "        n_col = n_plots // 3 + 1\n",
    "    elif n_plots <= 8:\n",
    "        n_row = 2\n",
    "        n_col = 4\n",
    "    elif n_plots == 9:\n",
    "        n_row = 2\n",
    "        n_col = 4\n",
    "    else:\n",
    "        n_row = int(np.ceil(n_plots / 4))\n",
    "        n_col = 4\n",
    "\n",
    "    fig, axs = plt.subplots(\n",
    "        n_row, n_col,\n",
    "        figsize=(10, 1 + 3*n_row),\n",
    "    )\n",
    "\n",
    "    for idx in range(axs.size - n_plots):\n",
    "        axs[n_row-1, -(idx + 1)].axis('off')\n",
    "\n",
    "    for it, ind in enumerate(t_inds):\n",
    "        i, j = np.unravel_index(it, axs.shape)\n",
    "\n",
    "        vals, bins, _ = axs[i, j].hist(\n",
    "            ts[:, :, ind].T,\n",
    "            bins=50,\n",
    "            density=True,\n",
    "        )\n",
    "        axs[i, j].set_yticks([])\n",
    "        axs[i, j].text(\n",
    "            bins[0], 0.95*np.max(vals),\n",
    "            f'{z_at[3, ind]:.0f}',\n",
    "        )\n",
    "        axs[i, j].text(\n",
    "            bins[0], 0.88*np.max(vals),\n",
    "            f'{np.sqrt(data.errs_T_raw)[ind]:.0f}',\n",
    "        )\n"
   ]
  },
  {
   "cell_type": "code",
   "execution_count": null,
   "metadata": {},
   "outputs": [],
   "source": [
    "names"
   ]
  },
  {
   "cell_type": "code",
   "execution_count": null,
   "metadata": {
    "metadata": {}
   },
   "outputs": [],
   "source": [
    "from paleokalmag.data_handling import Data"
   ]
  },
  {
   "cell_type": "code",
   "execution_count": null,
   "metadata": {
    "metadata": {}
   },
   "outputs": [],
   "source": [
    "dat = Data(rawData)"
   ]
  },
  {
   "cell_type": "code",
   "execution_count": null,
   "metadata": {},
   "outputs": [],
   "source": [
    "tR = iData.posterior['tR'].values.reshape(-1)\n",
    "tL = iData.posterior['tL'].values.reshape(-1)"
   ]
  },
  {
   "cell_type": "code",
   "execution_count": null,
   "metadata": {},
   "outputs": [],
   "source": [
    "plt.hist(tR, bins=51);"
   ]
  },
  {
   "cell_type": "code",
   "execution_count": null,
   "metadata": {},
   "outputs": [],
   "source": [
    "plt.hist(tL, bins=51);"
   ]
  },
  {
   "cell_type": "code",
   "execution_count": null,
   "metadata": {},
   "outputs": [],
   "source": [
    "kappa = iData.posterior['kappa'].values.reshape(-1)"
   ]
  },
  {
   "cell_type": "code",
   "execution_count": null,
   "metadata": {},
   "outputs": [],
   "source": [
    "plt.hist(kappa, bins=51);"
   ]
  },
  {
   "cell_type": "code",
   "execution_count": null,
   "metadata": {},
   "outputs": [],
   "source": [
    "solarmod = iData.posterior['sm_at_knots'].values"
   ]
  },
  {
   "cell_type": "code",
   "execution_count": null,
   "metadata": {},
   "outputs": [],
   "source": [
    "solarmod = solarmod.reshape(-1, 411)"
   ]
  },
  {
   "cell_type": "code",
   "execution_count": null,
   "metadata": {},
   "outputs": [],
   "source": [
    "plt.hist(\n",
    "    solarmod.flatten(),\n",
    "    bins=51,\n",
    ");"
   ]
  },
  {
   "cell_type": "code",
   "execution_count": null,
   "metadata": {},
   "outputs": [],
   "source": [
    "print(f\"kappa: {kappa.mean()}±{kappa.std()}\")\n",
    "print(f\"tL: {tL.mean()}±{tL.std()}\")\n",
    "print(f\"tR: {tR.mean()}±{tR.std()}\")"
   ]
  }
 ],
 "metadata": {
  "kernelspec": {
   "display_name": "mcmc",
   "language": "python",
   "name": "python3"
  },
  "language_info": {
   "codemirror_mode": {
    "name": "ipython",
    "version": 3
   },
   "file_extension": ".py",
   "mimetype": "text/x-python",
   "name": "python",
   "nbconvert_exporter": "python",
   "pygments_lexer": "ipython3",
   "version": "3.11.6"
  },
  "orig_nbformat": 4
 },
 "nbformat": 4,
 "nbformat_minor": 2
}
