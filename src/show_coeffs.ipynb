{
 "cells": [
  {
   "cell_type": "code",
   "execution_count": null,
   "metadata": {},
   "outputs": [],
   "source": [
    "import numpy as np\n",
    "\n",
    "import arviz as az\n",
    "\n",
    "from matplotlib import pyplot as plt\n",
    "\n",
    "from scipy.interpolate import BSpline\n",
    "\n",
    "from pymagglobal.utils import i2lm_l, i2lm_m\n",
    "\n",
    "from common import radData, gamma_0, mean_solar\n",
    "\n",
    "from radio_pyMC import calc_HPA, prod_Be10, prod_C14"
   ]
  },
  {
   "cell_type": "code",
   "execution_count": null,
   "metadata": {},
   "outputs": [],
   "source": [
    "prefix = 'radio_fdp2d'\n",
    "idata_fname = f'../dat/{prefix}_result.nc'\n",
    "\n",
    "with np.load(f'../dat/{prefix}_ensemble.npz') as fh:\n",
    "    knots = fh['knots']\n",
    "    coeffs = fh['coeffs']\n",
    "    knots_solar = fh['knots_solar']\n",
    "    solar = fh['solar']\n",
    "\n",
    "iData = az.from_netcdf(idata_fname)"
   ]
  },
  {
   "cell_type": "code",
   "execution_count": null,
   "metadata": {},
   "outputs": [],
   "source": [
    "ind = 0\n",
    "fig, ax = plt.subplots(1, 1, figsize=(10, 5))\n",
    "\n",
    "ax.plot(\n",
    "    knots,\n",
    "    coeffs[ind, :, ::2],\n",
    "    alpha=0.01,\n",
    "    color=\"grey\",\n",
    "    zorder=0,\n",
    ")\n",
    "ax.plot(\n",
    "    knots,\n",
    "    np.mean(coeffs[ind, :, ::2], axis=1),\n",
    "    color=\"C0\",\n",
    "    zorder=1,\n",
    ")\n",
    "\n",
    "ax.set_title(rf\"$g_{i2lm_l(ind)}^{{{i2lm_m(ind)}}}$\");"
   ]
  },
  {
   "cell_type": "code",
   "execution_count": null,
   "metadata": {},
   "outputs": [],
   "source": [
    "fig, ax = plt.subplots(1, 1, figsize=(10, 5))\n",
    "\n",
    "fac = 0.63712**3\n",
    "\n",
    "dips = fac * np.sqrt(np.sum(coeffs[:3, :, ::1]**2, axis=0))\n",
    "\n",
    "ax.plot(\n",
    "    knots,\n",
    "    dips,\n",
    "    alpha=0.01,\n",
    "    color=\"grey\",\n",
    "    zorder=0,\n",
    ")\n",
    "ax.plot(\n",
    "    knots,\n",
    "    np.mean(dips, axis=1),\n",
    "    color=\"C0\",\n",
    "    zorder=1,\n",
    ");"
   ]
  },
  {
   "cell_type": "code",
   "execution_count": null,
   "metadata": {},
   "outputs": [],
   "source": [
    "fig, ax = plt.subplots(1, 1, figsize=(10, 5))\n",
    "\n",
    "ax.plot(\n",
    "    knots_solar,\n",
    "    solar,\n",
    "    alpha=0.01,\n",
    "    color=\"grey\",\n",
    "    zorder=0,\n",
    ")\n",
    "ax.plot(\n",
    "    knots_solar,\n",
    "    np.mean(solar, axis=1),\n",
    "    color=\"C0\",\n",
    "    zorder=1,\n",
    ");"
   ]
  },
  {
   "cell_type": "code",
   "execution_count": null,
   "metadata": {},
   "outputs": [],
   "source": [
    "interp_solar = BSpline(\n",
    "    knots_solar,\n",
    "    solar,\n",
    "    1,\n",
    ")\n",
    "solar_at_g = interp_solar(knots)"
   ]
  },
  {
   "cell_type": "code",
   "execution_count": null,
   "metadata": {},
   "outputs": [],
   "source": [
    "qGL = prod_C14(dips, solar_at_g)"
   ]
  },
  {
   "cell_type": "code",
   "execution_count": null,
   "metadata": {},
   "outputs": [],
   "source": [
    "s_fac = np.array(iData.posterior['s_fac'])\n",
    "s_fac = np.mean(s_fac.reshape(-1, 3), axis=0)"
   ]
  },
  {
   "cell_type": "code",
   "execution_count": null,
   "metadata": {},
   "outputs": [],
   "source": [
    "q_GL_cal = prod_C14(fac*abs(gamma_0), mean_solar)\n",
    "# XXX Parametrize the 0.05\n",
    "cal_facs = q_GL_cal * (1 + s_fac*0.1)"
   ]
  },
  {
   "cell_type": "code",
   "execution_count": null,
   "metadata": {},
   "outputs": [],
   "source": [
    "fig, ax = plt.subplots(1, 1)\n",
    "\n",
    "ax.plot(\n",
    "    knots,\n",
    "    qGL[:, ::20],\n",
    "    color='C0',\n",
    "    alpha=0.1,\n",
    ");\n",
    "ax.plot(\n",
    "    knots,\n",
    "    np.mean(qGL, axis=1),\n",
    "    color='C0',\n",
    ");\n",
    "ax.errorbar(\n",
    "    radData['t'],\n",
    "    radData['C14'] * cal_facs[2],\n",
    "    color='grey',\n",
    "    marker='.',\n",
    "    yerr=0.05 * cal_facs[2],\n",
    "    ls='',\n",
    ")\n",
    "ax.set_xlim(-2000, 0)\n"
   ]
  },
  {
   "cell_type": "code",
   "execution_count": null,
   "metadata": {},
   "outputs": [],
   "source": []
  }
 ],
 "metadata": {
  "kernelspec": {
   "display_name": "mcmc",
   "language": "python",
   "name": "python3"
  },
  "language_info": {
   "codemirror_mode": {
    "name": "ipython",
    "version": 3
   },
   "file_extension": ".py",
   "mimetype": "text/x-python",
   "name": "python",
   "nbconvert_exporter": "python",
   "pygments_lexer": "ipython3",
   "version": "3.11.6"
  },
  "orig_nbformat": 4
 },
 "nbformat": 4,
 "nbformat_minor": 2
}
